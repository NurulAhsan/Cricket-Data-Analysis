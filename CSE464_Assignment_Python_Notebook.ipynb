{
 "cells": [
  {
   "cell_type": "code",
   "execution_count": 2,
   "metadata": {},
   "outputs": [],
   "source": [
    "import pandas as pd"
   ]
  },
  {
   "cell_type": "code",
   "execution_count": 3,
   "metadata": {},
   "outputs": [],
   "source": [
    "df_test = pd.read_csv('Desktop/Dataset/dataset1_test.csv')\n",
    "#Reading Dataset"
   ]
  },
  {
   "cell_type": "code",
   "execution_count": 76,
   "metadata": {},
   "outputs": [
    {
     "data": {
      "text/html": [
       "<div>\n",
       "<style>\n",
       "    .dataframe thead tr:only-child th {\n",
       "        text-align: right;\n",
       "    }\n",
       "\n",
       "    .dataframe thead th {\n",
       "        text-align: left;\n",
       "    }\n",
       "\n",
       "    .dataframe tbody tr th {\n",
       "        vertical-align: top;\n",
       "    }\n",
       "</style>\n",
       "<table border=\"1\" class=\"dataframe\">\n",
       "  <thead>\n",
       "    <tr style=\"text-align: right;\">\n",
       "      <th></th>\n",
       "      <th>Batsman</th>\n",
       "      <th>Runs</th>\n",
       "      <th>Mins</th>\n",
       "      <th>BF</th>\n",
       "      <th>4s</th>\n",
       "      <th>6s</th>\n",
       "      <th>SR</th>\n",
       "      <th>Pos</th>\n",
       "      <th>Dismissal</th>\n",
       "      <th>Inns</th>\n",
       "    </tr>\n",
       "  </thead>\n",
       "  <tbody>\n",
       "    <tr>\n",
       "      <th>0</th>\n",
       "      <td>1</td>\n",
       "      <td>33</td>\n",
       "      <td>78.0</td>\n",
       "      <td>56</td>\n",
       "      <td>5</td>\n",
       "      <td>0</td>\n",
       "      <td>58.92</td>\n",
       "      <td>3</td>\n",
       "      <td>caught</td>\n",
       "      <td>2</td>\n",
       "    </tr>\n",
       "    <tr>\n",
       "      <th>1</th>\n",
       "      <td>1</td>\n",
       "      <td>33</td>\n",
       "      <td>77.0</td>\n",
       "      <td>49</td>\n",
       "      <td>6</td>\n",
       "      <td>0</td>\n",
       "      <td>67.34</td>\n",
       "      <td>3</td>\n",
       "      <td>caught</td>\n",
       "      <td>4</td>\n",
       "    </tr>\n",
       "    <tr>\n",
       "      <th>2</th>\n",
       "      <td>1</td>\n",
       "      <td>215</td>\n",
       "      <td>503.0</td>\n",
       "      <td>346</td>\n",
       "      <td>25</td>\n",
       "      <td>1</td>\n",
       "      <td>62.13</td>\n",
       "      <td>3</td>\n",
       "      <td>lbw</td>\n",
       "      <td>1</td>\n",
       "    </tr>\n",
       "    <tr>\n",
       "      <th>3</th>\n",
       "      <td>1</td>\n",
       "      <td>58</td>\n",
       "      <td>67.0</td>\n",
       "      <td>48</td>\n",
       "      <td>9</td>\n",
       "      <td>0</td>\n",
       "      <td>120.83</td>\n",
       "      <td>3</td>\n",
       "      <td>bowled</td>\n",
       "      <td>3</td>\n",
       "    </tr>\n",
       "    <tr>\n",
       "      <th>4</th>\n",
       "      <td>1</td>\n",
       "      <td>7</td>\n",
       "      <td>26.0</td>\n",
       "      <td>18</td>\n",
       "      <td>1</td>\n",
       "      <td>0</td>\n",
       "      <td>38.88</td>\n",
       "      <td>3</td>\n",
       "      <td>caught</td>\n",
       "      <td>1</td>\n",
       "    </tr>\n",
       "  </tbody>\n",
       "</table>\n",
       "</div>"
      ],
      "text/plain": [
       "   Batsman  Runs   Mins   BF  4s  6s      SR  Pos Dismissal  Inns\n",
       "0        1    33   78.0   56   5   0   58.92    3    caught     2\n",
       "1        1    33   77.0   49   6   0   67.34    3    caught     4\n",
       "2        1   215  503.0  346  25   1   62.13    3       lbw     1\n",
       "3        1    58   67.0   48   9   0  120.83    3    bowled     3\n",
       "4        1     7   26.0   18   1   0   38.88    3    caught     1"
      ]
     },
     "execution_count": 76,
     "metadata": {},
     "output_type": "execute_result"
    }
   ],
   "source": [
    "df_test.head()\n",
    "#printing first few tuples of dataset"
   ]
  },
  {
   "cell_type": "code",
   "execution_count": 77,
   "metadata": {},
   "outputs": [
    {
     "data": {
      "text/html": [
       "<div>\n",
       "<style>\n",
       "    .dataframe thead tr:only-child th {\n",
       "        text-align: right;\n",
       "    }\n",
       "\n",
       "    .dataframe thead th {\n",
       "        text-align: left;\n",
       "    }\n",
       "\n",
       "    .dataframe tbody tr th {\n",
       "        vertical-align: top;\n",
       "    }\n",
       "</style>\n",
       "<table border=\"1\" class=\"dataframe\">\n",
       "  <thead>\n",
       "    <tr style=\"text-align: right;\">\n",
       "      <th></th>\n",
       "      <th>Batsman</th>\n",
       "      <th>Runs</th>\n",
       "      <th>Mins</th>\n",
       "      <th>BF</th>\n",
       "      <th>4s</th>\n",
       "      <th>6s</th>\n",
       "      <th>SR</th>\n",
       "      <th>Pos</th>\n",
       "      <th>Dismissal</th>\n",
       "      <th>Inns</th>\n",
       "    </tr>\n",
       "  </thead>\n",
       "  <tbody>\n",
       "    <tr>\n",
       "      <th>291</th>\n",
       "      <td>6</td>\n",
       "      <td>0</td>\n",
       "      <td>2.0</td>\n",
       "      <td>4</td>\n",
       "      <td>0</td>\n",
       "      <td>0</td>\n",
       "      <td>0.00</td>\n",
       "      <td>1</td>\n",
       "      <td>bowled</td>\n",
       "      <td>4</td>\n",
       "    </tr>\n",
       "    <tr>\n",
       "      <th>292</th>\n",
       "      <td>6</td>\n",
       "      <td>52</td>\n",
       "      <td>NaN</td>\n",
       "      <td>53</td>\n",
       "      <td>6</td>\n",
       "      <td>1</td>\n",
       "      <td>98.11</td>\n",
       "      <td>1</td>\n",
       "      <td>bowled</td>\n",
       "      <td>1</td>\n",
       "    </tr>\n",
       "    <tr>\n",
       "      <th>293</th>\n",
       "      <td>6</td>\n",
       "      <td>41</td>\n",
       "      <td>NaN</td>\n",
       "      <td>62</td>\n",
       "      <td>6</td>\n",
       "      <td>0</td>\n",
       "      <td>66.12</td>\n",
       "      <td>1</td>\n",
       "      <td>caught</td>\n",
       "      <td>3</td>\n",
       "    </tr>\n",
       "    <tr>\n",
       "      <th>294</th>\n",
       "      <td>6</td>\n",
       "      <td>4</td>\n",
       "      <td>NaN</td>\n",
       "      <td>3</td>\n",
       "      <td>1</td>\n",
       "      <td>0</td>\n",
       "      <td>133.33</td>\n",
       "      <td>1</td>\n",
       "      <td>caught</td>\n",
       "      <td>2</td>\n",
       "    </tr>\n",
       "    <tr>\n",
       "      <th>295</th>\n",
       "      <td>6</td>\n",
       "      <td>2</td>\n",
       "      <td>NaN</td>\n",
       "      <td>7</td>\n",
       "      <td>0</td>\n",
       "      <td>0</td>\n",
       "      <td>28.57</td>\n",
       "      <td>1</td>\n",
       "      <td>lbw</td>\n",
       "      <td>4</td>\n",
       "    </tr>\n",
       "  </tbody>\n",
       "</table>\n",
       "</div>"
      ],
      "text/plain": [
       "     Batsman  Runs  Mins  BF  4s  6s      SR  Pos Dismissal  Inns\n",
       "291        6     0   2.0   4   0   0    0.00    1    bowled     4\n",
       "292        6    52   NaN  53   6   1   98.11    1    bowled     1\n",
       "293        6    41   NaN  62   6   0   66.12    1    caught     3\n",
       "294        6     4   NaN   3   1   0  133.33    1    caught     2\n",
       "295        6     2   NaN   7   0   0   28.57    1       lbw     4"
      ]
     },
     "execution_count": 77,
     "metadata": {},
     "output_type": "execute_result"
    }
   ],
   "source": [
    "df_test.tail()\n",
    "#printing last few tuples of dataset"
   ]
  },
  {
   "cell_type": "code",
   "execution_count": 78,
   "metadata": {},
   "outputs": [
    {
     "data": {
      "text/plain": [
       "(296, 10)"
      ]
     },
     "execution_count": 78,
     "metadata": {},
     "output_type": "execute_result"
    }
   ],
   "source": [
    "df_test.shape\n",
    "#showing the number of rows and attributes of the dataset"
   ]
  },
  {
   "cell_type": "code",
   "execution_count": 79,
   "metadata": {
    "collapsed": true
   },
   "outputs": [],
   "source": [
    "bat1 = df_test[(df_test.Batsman==1)]\n",
    "bat2 = df_test[(df_test.Batsman==2)]\n",
    "bat3 = df_test[(df_test.Batsman==3)]\n",
    "bat4 = df_test[(df_test.Batsman==4)]\n",
    "bat5 = df_test[(df_test.Batsman==5)]\n",
    "bat6 = df_test[(df_test.Batsman==6)]\n",
    "#splitting each batsman data in to multiple dataframe"
   ]
  },
  {
   "cell_type": "code",
   "execution_count": 80,
   "metadata": {},
   "outputs": [
    {
     "data": {
      "text/plain": [
       "(57, 10)"
      ]
     },
     "execution_count": 80,
     "metadata": {},
     "output_type": "execute_result"
    }
   ],
   "source": [
    "bat1.shape"
   ]
  },
  {
   "cell_type": "code",
   "execution_count": 81,
   "metadata": {
    "collapsed": true
   },
   "outputs": [],
   "source": [
    "import numpy as np"
   ]
  },
  {
   "cell_type": "code",
   "execution_count": 82,
   "metadata": {},
   "outputs": [
    {
     "name": "stdout",
     "output_type": "stream",
     "text": [
      "70.81632653061224\n"
     ]
    }
   ],
   "source": [
    "bat1_avg = bat1['Runs'].sum()/(bat1.shape[0]-bat1[(bat1.Dismissal=='not out')].shape[0])\n",
    "print(bat1_avg)\n",
    "#in cricket the average of batsman is calculated by dividing total number of runs\n",
    "#by total number of innings when the batsman got out\n",
    "#we find all the batsman's average"
   ]
  },
  {
   "cell_type": "code",
   "execution_count": 83,
   "metadata": {},
   "outputs": [
    {
     "name": "stdout",
     "output_type": "stream",
     "text": [
      "62.354166666666664\n"
     ]
    }
   ],
   "source": [
    "bat2_avg = bat2['Runs'].sum()/(bat2.shape[0]-bat2[(bat2.Dismissal=='not out')].shape[0])\n",
    "print(bat2_avg)"
   ]
  },
  {
   "cell_type": "code",
   "execution_count": 84,
   "metadata": {},
   "outputs": [
    {
     "name": "stdout",
     "output_type": "stream",
     "text": [
      "52.35\n"
     ]
    }
   ],
   "source": [
    "bat3_avg = bat3['Runs'].sum()/(bat3.shape[0]-bat3[(bat3.Dismissal=='not out')].shape[0])\n",
    "print(bat3_avg)"
   ]
  },
  {
   "cell_type": "code",
   "execution_count": 85,
   "metadata": {},
   "outputs": [
    {
     "name": "stdout",
     "output_type": "stream",
     "text": [
      "51.14035087719298\n"
     ]
    }
   ],
   "source": [
    "bat4_avg = bat4['Runs'].sum()/(bat4.shape[0]-bat4[(bat4.Dismissal=='not out')].shape[0])\n",
    "print(bat4_avg)"
   ]
  },
  {
   "cell_type": "code",
   "execution_count": 86,
   "metadata": {},
   "outputs": [
    {
     "name": "stdout",
     "output_type": "stream",
     "text": [
      "61.06060606060606\n",
      "35.76923076923077\n"
     ]
    }
   ],
   "source": [
    "bat5_avg = bat5['Runs'].sum()/(bat5.shape[0]-bat5[(bat5.Dismissal=='not out')].shape[0])\n",
    "print(bat5_avg)\n",
    "bat6_avg = bat6['Runs'].sum()/(bat6.shape[0]-bat6[(bat6.Dismissal=='not out')].shape[0])\n",
    "print(bat6_avg)"
   ]
  },
  {
   "cell_type": "code",
   "execution_count": 87,
   "metadata": {
    "collapsed": true
   },
   "outputs": [],
   "source": [
    "import matplotlib.pyplot as plt\n",
    "import seaborn as sns"
   ]
  },
  {
   "cell_type": "code",
   "execution_count": 88,
   "metadata": {},
   "outputs": [
    {
     "data": {
      "image/png": "[encoded data removed]",
      "text/plain": [
       "<matplotlib.figure.Figure at 0x1a10d40dd8>"
      ]
     },
     "metadata": {},
     "output_type": "display_data"
    }
   ],
   "source": [
    "sns.set()\n",
    "batsman_avg = [bat1_avg,bat2_avg,bat3_avg,bat4_avg,bat5_avg,bat6_avg]\n",
    "x = ['Batsman1','Batsman2','Batsman3','Batsman4','Batsman5','Batsman6']\n",
    "plt.bar(x,batsman_avg)\n",
    "plt.xlabel(\"Batsman\")\n",
    "plt.ylabel(\"Average\")\n",
    "plt.show()\n",
    "#plotting and comparing batsman average"
   ]
  },
  {
   "cell_type": "code",
   "execution_count": 89,
   "metadata": {},
   "outputs": [
    {
     "name": "stdout",
     "output_type": "stream",
     "text": [
      "56.46923403164464\n"
     ]
    }
   ],
   "source": [
    "std_bat1 = np.std(bat1['Runs'])\n",
    "print(std_bat1)"
   ]
  },
  {
   "cell_type": "code",
   "execution_count": 90,
   "metadata": {},
   "outputs": [
    {
     "name": "stdout",
     "output_type": "stream",
     "text": [
      "68.8338058329175\n"
     ]
    }
   ],
   "source": [
    "std_bat2 = np.std(bat2['Runs'])\n",
    "print(std_bat2)"
   ]
  },
  {
   "cell_type": "code",
   "execution_count": 91,
   "metadata": {},
   "outputs": [
    {
     "name": "stdout",
     "output_type": "stream",
     "text": [
      "47.76024258192555\n"
     ]
    }
   ],
   "source": [
    "std_bat3 = np.std(bat3['Runs'])\n",
    "print(std_bat3)"
   ]
  },
  {
   "cell_type": "code",
   "execution_count": 92,
   "metadata": {},
   "outputs": [
    {
     "name": "stdout",
     "output_type": "stream",
     "text": [
      "48.44221392163468\n"
     ]
    }
   ],
   "source": [
    "std_bat4 = np.std(bat4['Runs'])\n",
    "print(std_bat4)"
   ]
  },
  {
   "cell_type": "code",
   "execution_count": 93,
   "metadata": {},
   "outputs": [
    {
     "name": "stdout",
     "output_type": "stream",
     "text": [
      "48.841034754602376\n"
     ]
    }
   ],
   "source": [
    "std_bat5 = np.std(bat5['Runs'])\n",
    "print(std_bat5)"
   ]
  },
  {
   "cell_type": "code",
   "execution_count": 94,
   "metadata": {},
   "outputs": [
    {
     "name": "stdout",
     "output_type": "stream",
     "text": [
      "29.772609627368382\n"
     ]
    }
   ],
   "source": [
    "std_bat6 = np.std(bat6['Runs'])\n",
    "print(std_bat6)"
   ]
  },
  {
   "cell_type": "code",
   "execution_count": 95,
   "metadata": {},
   "outputs": [
    {
     "data": {
      "image/png": "[encoded data removed]",
      "text/plain": [
       "<matplotlib.figure.Figure at 0x1a141d4160>"
      ]
     },
     "metadata": {},
     "output_type": "display_data"
    }
   ],
   "source": [
    "sns.set()\n",
    "batsman_std = [std_bat1, std_bat2, std_bat3, std_bat4, std_bat5, std_bat6,]\n",
    "x = ['Batsman1', 'Batsman2', 'Batsman3', 'Batsman4', 'Batsman5', 'Batsman6']\n",
    "\n",
    "plt.bar(x, batsman_std)\n",
    "plt.xlabel(\"Batsman\")\n",
    "plt.ylabel(\"Batsman_std\")\n",
    "plt.show()"
   ]
  },
  {
   "cell_type": "code",
   "execution_count": 96,
   "metadata": {},
   "outputs": [
    {
     "data": {
      "text/html": [
       "<div>\n",
       "<style>\n",
       "    .dataframe thead tr:only-child th {\n",
       "        text-align: right;\n",
       "    }\n",
       "\n",
       "    .dataframe thead th {\n",
       "        text-align: left;\n",
       "    }\n",
       "\n",
       "    .dataframe tbody tr th {\n",
       "        vertical-align: top;\n",
       "    }\n",
       "</style>\n",
       "<table border=\"1\" class=\"dataframe\">\n",
       "  <thead>\n",
       "    <tr style=\"text-align: right;\">\n",
       "      <th></th>\n",
       "      <th>Batsman</th>\n",
       "      <th>Runs</th>\n",
       "      <th>Mins</th>\n",
       "      <th>BF</th>\n",
       "      <th>4s</th>\n",
       "      <th>6s</th>\n",
       "      <th>SR</th>\n",
       "      <th>Pos</th>\n",
       "      <th>Dismissal</th>\n",
       "      <th>Inns</th>\n",
       "    </tr>\n",
       "  </thead>\n",
       "  <tbody>\n",
       "    <tr>\n",
       "      <th>0</th>\n",
       "      <td>1</td>\n",
       "      <td>33</td>\n",
       "      <td>78.0</td>\n",
       "      <td>56</td>\n",
       "      <td>5</td>\n",
       "      <td>0</td>\n",
       "      <td>58.92</td>\n",
       "      <td>3</td>\n",
       "      <td>caught</td>\n",
       "      <td>2</td>\n",
       "    </tr>\n",
       "    <tr>\n",
       "      <th>1</th>\n",
       "      <td>1</td>\n",
       "      <td>33</td>\n",
       "      <td>77.0</td>\n",
       "      <td>49</td>\n",
       "      <td>6</td>\n",
       "      <td>0</td>\n",
       "      <td>67.34</td>\n",
       "      <td>3</td>\n",
       "      <td>caught</td>\n",
       "      <td>4</td>\n",
       "    </tr>\n",
       "    <tr>\n",
       "      <th>2</th>\n",
       "      <td>1</td>\n",
       "      <td>215</td>\n",
       "      <td>503.0</td>\n",
       "      <td>346</td>\n",
       "      <td>25</td>\n",
       "      <td>1</td>\n",
       "      <td>62.13</td>\n",
       "      <td>3</td>\n",
       "      <td>lbw</td>\n",
       "      <td>1</td>\n",
       "    </tr>\n",
       "    <tr>\n",
       "      <th>3</th>\n",
       "      <td>1</td>\n",
       "      <td>58</td>\n",
       "      <td>67.0</td>\n",
       "      <td>48</td>\n",
       "      <td>9</td>\n",
       "      <td>0</td>\n",
       "      <td>120.83</td>\n",
       "      <td>3</td>\n",
       "      <td>bowled</td>\n",
       "      <td>3</td>\n",
       "    </tr>\n",
       "    <tr>\n",
       "      <th>4</th>\n",
       "      <td>1</td>\n",
       "      <td>7</td>\n",
       "      <td>26.0</td>\n",
       "      <td>18</td>\n",
       "      <td>1</td>\n",
       "      <td>0</td>\n",
       "      <td>38.88</td>\n",
       "      <td>3</td>\n",
       "      <td>caught</td>\n",
       "      <td>1</td>\n",
       "    </tr>\n",
       "  </tbody>\n",
       "</table>\n",
       "</div>"
      ],
      "text/plain": [
       "   Batsman  Runs   Mins   BF  4s  6s      SR  Pos Dismissal  Inns\n",
       "0        1    33   78.0   56   5   0   58.92    3    caught     2\n",
       "1        1    33   77.0   49   6   0   67.34    3    caught     4\n",
       "2        1   215  503.0  346  25   1   62.13    3       lbw     1\n",
       "3        1    58   67.0   48   9   0  120.83    3    bowled     3\n",
       "4        1     7   26.0   18   1   0   38.88    3    caught     1"
      ]
     },
     "execution_count": 96,
     "metadata": {},
     "output_type": "execute_result"
    }
   ],
   "source": [
    "bat1.head()"
   ]
  },
  {
   "cell_type": "code",
   "execution_count": 97,
   "metadata": {
    "collapsed": true
   },
   "outputs": [],
   "source": [
    "#we find the conversion ratio which is the rate of converting 50 into 100 in an innings"
   ]
  },
  {
   "cell_type": "code",
   "execution_count": 98,
   "metadata": {},
   "outputs": [
    {
     "name": "stdout",
     "output_type": "stream",
     "text": [
      "53.84615384615385\n"
     ]
    }
   ],
   "source": [
    "bat1_half_century = bat1[(bat1.Runs>=50)&(bat1.Runs<100)].shape[0]\n",
    "bat1_full_century = bat1[(bat1.Runs>=100)].shape[0]\n",
    "bat1_conversion_ratio = (bat1_full_century/(bat1_full_century+bat1_half_century))*100\n",
    "print(bat1_conversion_ratio)"
   ]
  },
  {
   "cell_type": "code",
   "execution_count": 99,
   "metadata": {},
   "outputs": [
    {
     "name": "stdout",
     "output_type": "stream",
     "text": [
      "64.70588235294117\n"
     ]
    }
   ],
   "source": [
    "bat2_half_century = bat2[(bat2.Runs>=50)&(bat2.Runs<100)].shape[0]\n",
    "bat2_full_century = bat2[(bat2.Runs>=100)].shape[0]\n",
    "bat2_conversion_ratio = (bat2_full_century/(bat2_full_century+bat2_half_century))*100\n",
    "print(bat2_conversion_ratio)"
   ]
  },
  {
   "cell_type": "code",
   "execution_count": 100,
   "metadata": {},
   "outputs": [
    {
     "name": "stdout",
     "output_type": "stream",
     "text": [
      "23.333333333333332\n"
     ]
    }
   ],
   "source": [
    "bat3_half_century = bat3[(bat3.Runs>=50)&(bat3.Runs<100)].shape[0]\n",
    "bat3_full_century = bat3[(bat3.Runs>=100)].shape[0]\n",
    "bat3_conversion_ratio = (bat3_full_century/(bat3_full_century+bat3_half_century))*100\n",
    "print(bat3_conversion_ratio)"
   ]
  },
  {
   "cell_type": "code",
   "execution_count": 101,
   "metadata": {},
   "outputs": [
    {
     "name": "stdout",
     "output_type": "stream",
     "text": [
      "40.909090909090914\n"
     ]
    }
   ],
   "source": [
    "bat4_half_century = bat4[(bat4.Runs>=50)&(bat4.Runs<100)].shape[0]\n",
    "bat4_full_century = bat4[(bat4.Runs>=100)].shape[0]\n",
    "bat4_conversion_ratio = (bat4_full_century/(bat4_full_century+bat4_half_century))*100\n",
    "print(bat4_conversion_ratio)"
   ]
  },
  {
   "cell_type": "code",
   "execution_count": 102,
   "metadata": {},
   "outputs": [
    {
     "name": "stdout",
     "output_type": "stream",
     "text": [
      "38.88888888888889\n"
     ]
    }
   ],
   "source": [
    "bat5_half_century = bat5[(bat5.Runs>=50)&(bat5.Runs<100)].shape[0]\n",
    "bat5_full_century = bat5[(bat5.Runs>=100)].shape[0]\n",
    "bat5_conversion_ratio = (bat5_full_century/(bat5_full_century+bat5_half_century))*100\n",
    "print(bat5_conversion_ratio)"
   ]
  },
  {
   "cell_type": "code",
   "execution_count": 103,
   "metadata": {},
   "outputs": [
    {
     "name": "stdout",
     "output_type": "stream",
     "text": [
      "11.11111111111111\n"
     ]
    }
   ],
   "source": [
    "bat6_half_century = bat6[(bat6.Runs>=50)&(bat6.Runs<100)].shape[0]\n",
    "bat6_full_century = bat6[(bat6.Runs>=100)].shape[0]\n",
    "bat6_conversion_ratio = (bat6_full_century/(bat6_full_century+bat6_half_century))*100\n",
    "print(bat6_conversion_ratio)"
   ]
  },
  {
   "cell_type": "code",
   "execution_count": 104,
   "metadata": {},
   "outputs": [
    {
     "data": {
      "image/png": "[encoded data removed]",
      "text/plain": [
       "<matplotlib.figure.Figure at 0x1a10ce3128>"
      ]
     },
     "metadata": {},
     "output_type": "display_data"
    }
   ],
   "source": [
    "sns.set()\n",
    "batsman_conversion_rate = [bat1_conversion_ratio, bat2_conversion_ratio, bat3_conversion_ratio, bat4_conversion_ratio, bat5_conversion_ratio, bat6_conversion_ratio]\n",
    "x = ['Batsman1', 'Batsman2', 'Batsman3', 'Batsman4', 'Batsman5', 'Batsman6']\n",
    "\n",
    "plt.bar(x, batsman_conversion_rate)\n",
    "plt.xlabel(\"Batsman\")\n",
    "plt.ylabel(\"Batsman_conversion_rate\")\n",
    "\n",
    "plt.show()\n",
    "#we compare the conversion ratio of all the batsman"
   ]
  },
  {
   "cell_type": "code",
   "execution_count": 105,
   "metadata": {},
   "outputs": [
    {
     "data": {
      "text/html": [
       "<div>\n",
       "<style>\n",
       "    .dataframe thead tr:only-child th {\n",
       "        text-align: right;\n",
       "    }\n",
       "\n",
       "    .dataframe thead th {\n",
       "        text-align: left;\n",
       "    }\n",
       "\n",
       "    .dataframe tbody tr th {\n",
       "        vertical-align: top;\n",
       "    }\n",
       "</style>\n",
       "<table border=\"1\" class=\"dataframe\">\n",
       "  <thead>\n",
       "    <tr style=\"text-align: right;\">\n",
       "      <th></th>\n",
       "      <th>Batsman</th>\n",
       "      <th>Runs</th>\n",
       "      <th>Mins</th>\n",
       "      <th>BF</th>\n",
       "      <th>4s</th>\n",
       "      <th>6s</th>\n",
       "      <th>SR</th>\n",
       "      <th>Pos</th>\n",
       "      <th>Dismissal</th>\n",
       "      <th>Inns</th>\n",
       "    </tr>\n",
       "  </thead>\n",
       "  <tbody>\n",
       "    <tr>\n",
       "      <th>0</th>\n",
       "      <td>1</td>\n",
       "      <td>33</td>\n",
       "      <td>78.0</td>\n",
       "      <td>56</td>\n",
       "      <td>5</td>\n",
       "      <td>0</td>\n",
       "      <td>58.92</td>\n",
       "      <td>3</td>\n",
       "      <td>caught</td>\n",
       "      <td>2</td>\n",
       "    </tr>\n",
       "    <tr>\n",
       "      <th>1</th>\n",
       "      <td>1</td>\n",
       "      <td>33</td>\n",
       "      <td>77.0</td>\n",
       "      <td>49</td>\n",
       "      <td>6</td>\n",
       "      <td>0</td>\n",
       "      <td>67.34</td>\n",
       "      <td>3</td>\n",
       "      <td>caught</td>\n",
       "      <td>4</td>\n",
       "    </tr>\n",
       "    <tr>\n",
       "      <th>2</th>\n",
       "      <td>1</td>\n",
       "      <td>215</td>\n",
       "      <td>503.0</td>\n",
       "      <td>346</td>\n",
       "      <td>25</td>\n",
       "      <td>1</td>\n",
       "      <td>62.13</td>\n",
       "      <td>3</td>\n",
       "      <td>lbw</td>\n",
       "      <td>1</td>\n",
       "    </tr>\n",
       "    <tr>\n",
       "      <th>3</th>\n",
       "      <td>1</td>\n",
       "      <td>58</td>\n",
       "      <td>67.0</td>\n",
       "      <td>48</td>\n",
       "      <td>9</td>\n",
       "      <td>0</td>\n",
       "      <td>120.83</td>\n",
       "      <td>3</td>\n",
       "      <td>bowled</td>\n",
       "      <td>3</td>\n",
       "    </tr>\n",
       "    <tr>\n",
       "      <th>4</th>\n",
       "      <td>1</td>\n",
       "      <td>7</td>\n",
       "      <td>26.0</td>\n",
       "      <td>18</td>\n",
       "      <td>1</td>\n",
       "      <td>0</td>\n",
       "      <td>38.88</td>\n",
       "      <td>3</td>\n",
       "      <td>caught</td>\n",
       "      <td>1</td>\n",
       "    </tr>\n",
       "  </tbody>\n",
       "</table>\n",
       "</div>"
      ],
      "text/plain": [
       "   Batsman  Runs   Mins   BF  4s  6s      SR  Pos Dismissal  Inns\n",
       "0        1    33   78.0   56   5   0   58.92    3    caught     2\n",
       "1        1    33   77.0   49   6   0   67.34    3    caught     4\n",
       "2        1   215  503.0  346  25   1   62.13    3       lbw     1\n",
       "3        1    58   67.0   48   9   0  120.83    3    bowled     3\n",
       "4        1     7   26.0   18   1   0   38.88    3    caught     1"
      ]
     },
     "execution_count": 105,
     "metadata": {},
     "output_type": "execute_result"
    }
   ],
   "source": [
    "bat1.head()"
   ]
  },
  {
   "cell_type": "code",
   "execution_count": 106,
   "metadata": {
    "collapsed": true
   },
   "outputs": [],
   "source": [
    "#We find the percentage of runs scored by boundary"
   ]
  },
  {
   "cell_type": "code",
   "execution_count": 107,
   "metadata": {
    "collapsed": true
   },
   "outputs": [],
   "source": [
    "bat1_runs_with_boundary = (bat1['4s'].sum())*4+(bat1['6s'].sum())*6\n",
    "bat1_run_sum = bat1['Runs'].sum()\n",
    "bat1_percent_of_run_with_boundary = (bat1_runs_with_boundary/bat1_run_sum)*100"
   ]
  },
  {
   "cell_type": "code",
   "execution_count": 108,
   "metadata": {},
   "outputs": [
    {
     "name": "stdout",
     "output_type": "stream",
     "text": [
      "45.763688760806915\n"
     ]
    }
   ],
   "source": [
    "print(bat1_percent_of_run_with_boundary)"
   ]
  },
  {
   "cell_type": "code",
   "execution_count": 109,
   "metadata": {},
   "outputs": [
    {
     "name": "stdout",
     "output_type": "stream",
     "text": [
      "43.90243902439025\n"
     ]
    }
   ],
   "source": [
    "bat2_runs_with_boundary = (bat2['4s'].sum())*4+(bat2['6s'].sum())*6\n",
    "bat2_run_sum = bat2['Runs'].sum()\n",
    "bat2_percent_of_run_with_boundary = (bat2_runs_with_boundary/bat2_run_sum)*100\n",
    "print(bat2_percent_of_run_with_boundary)"
   ]
  },
  {
   "cell_type": "code",
   "execution_count": 110,
   "metadata": {},
   "outputs": [
    {
     "name": "stdout",
     "output_type": "stream",
     "text": [
      "50.748169372811205\n"
     ]
    }
   ],
   "source": [
    "bat3_runs_with_boundary = (bat3['4s'].sum())*4+(bat3['6s'].sum())*6\n",
    "bat3_run_sum = bat3['Runs'].sum()\n",
    "bat3_percent_of_run_with_boundary = (bat3_runs_with_boundary/bat3_run_sum)*100\n",
    "print(bat3_percent_of_run_with_boundary)"
   ]
  },
  {
   "cell_type": "code",
   "execution_count": 111,
   "metadata": {},
   "outputs": [
    {
     "name": "stdout",
     "output_type": "stream",
     "text": [
      "52.075471698113205\n"
     ]
    }
   ],
   "source": [
    "bat4_runs_with_boundary = (bat4['4s'].sum())*4+(bat4['6s'].sum())*6\n",
    "bat4_run_sum = bat4['Runs'].sum()\n",
    "bat4_percent_of_run_with_boundary = (bat4_runs_with_boundary/bat4_run_sum)*100\n",
    "print(bat4_percent_of_run_with_boundary)"
   ]
  },
  {
   "cell_type": "code",
   "execution_count": 112,
   "metadata": {},
   "outputs": [
    {
     "name": "stdout",
     "output_type": "stream",
     "text": [
      "48.83374689826302\n"
     ]
    }
   ],
   "source": [
    "bat5_runs_with_boundary = (bat5['4s'].sum())*4+(bat5['6s'].sum())*6\n",
    "bat5_run_sum = bat5['Runs'].sum()\n",
    "bat5_percent_of_run_with_boundary = (bat5_runs_with_boundary/bat5_run_sum)*100\n",
    "print(bat5_percent_of_run_with_boundary)"
   ]
  },
  {
   "cell_type": "code",
   "execution_count": 113,
   "metadata": {},
   "outputs": [
    {
     "name": "stdout",
     "output_type": "stream",
     "text": [
      "47.74193548387097\n"
     ]
    }
   ],
   "source": [
    "bat6_runs_with_boundary = (bat6['4s'].sum())*4+(bat6['6s'].sum())*6\n",
    "bat6_run_sum = bat6['Runs'].sum()\n",
    "bat6_percent_of_run_with_boundary = (bat6_runs_with_boundary/bat6_run_sum)*100\n",
    "print(bat6_percent_of_run_with_boundary)"
   ]
  },
  {
   "cell_type": "code",
   "execution_count": 114,
   "metadata": {},
   "outputs": [
    {
     "data": {
      "image/png": "[encoded data removed]",
      "text/plain": [
       "<matplotlib.figure.Figure at 0x1a1409e128>"
      ]
     },
     "metadata": {},
     "output_type": "display_data"
    }
   ],
   "source": [
    "sns.set()\n",
    "batsman_percent_of_run_with_boundary = [bat1_percent_of_run_with_boundary, bat2_percent_of_run_with_boundary, bat3_percent_of_run_with_boundary, bat4_percent_of_run_with_boundary, bat5_percent_of_run_with_boundary, bat6_percent_of_run_with_boundary]\n",
    "x = ['Batsman1', 'Batsman2', 'Batsman3', 'Batsman4', 'Batsman5', 'Batsman6']\n",
    "\n",
    "plt.bar(x, batsman_percent_of_run_with_boundary)\n",
    "plt.xlabel(\"Batsman\")\n",
    "plt.ylabel(\"Batsman_percent_of_run_with_boundary\")\n",
    "\n",
    "plt.show()\n",
    "#we comapre the percentage of runs with boundary by each batsman"
   ]
  },
  {
   "cell_type": "code",
   "execution_count": 115,
   "metadata": {},
   "outputs": [
    {
     "data": {
      "image/png": "[encoded data removed]",
      "text/plain": [
       "<matplotlib.figure.Figure at 0x1a14166e10>"
      ]
     },
     "metadata": {},
     "output_type": "display_data"
    }
   ],
   "source": [
    "sns.set()\n",
    "batsman_half_century = [bat1_half_century, bat2_half_century, bat3_half_century, bat4_half_century, bat5_half_century, bat6_half_century]\n",
    "x = ['Batsman1', 'Batsman2', 'Batsman3', 'Batsman4', 'Batsman5', 'Batsman6']\n",
    "\n",
    "plt.bar(x, batsman_half_century)\n",
    "plt.xlabel(\"Batsman\")\n",
    "plt.ylabel(\"batsman_half_century\")\n",
    "\n",
    "plt.show()\n",
    "#we plot the number of half century scored by each batmsan"
   ]
  },
  {
   "cell_type": "code",
   "execution_count": 116,
   "metadata": {},
   "outputs": [
    {
     "data": {
      "image/png": "[encoded data removed]",
      "text/plain": [
       "<matplotlib.figure.Figure at 0x1a14484cf8>"
      ]
     },
     "metadata": {},
     "output_type": "display_data"
    }
   ],
   "source": [
    "sns.set()\n",
    "batsman_full_century = [bat1_full_century, bat2_full_century, bat3_full_century, bat4_full_century, bat5_full_century, bat6_full_century]\n",
    "x = ['Batsman1', 'Batsman2', 'Batsman3', 'Batsman4', 'Batsman5', 'Batsman6']\n",
    "\n",
    "plt.bar(x, batsman_full_century)\n",
    "plt.xlabel(\"Batsman\")\n",
    "plt.ylabel(\"Century\")\n",
    "\n",
    "plt.show()\n",
    "#we plot the number of century scored by each batsman"
   ]
  },
  {
   "cell_type": "code",
   "execution_count": 117,
   "metadata": {},
   "outputs": [
    {
     "name": "stdout",
     "output_type": "stream",
     "text": [
      "56.64381325497878\n"
     ]
    }
   ],
   "source": [
    "#finding strike rate for each batsman in the dataset\n",
    "#Strike = (total runs/total balls faced)*100\n",
    "bat1_sr = (bat1['Runs'].sum()/bat1[\"BF\"].sum())*100\n",
    "print(bat1_sr)"
   ]
  },
  {
   "cell_type": "code",
   "execution_count": 118,
   "metadata": {},
   "outputs": [
    {
     "name": "stdout",
     "output_type": "stream",
     "text": [
      "63.51867572156197\n"
     ]
    }
   ],
   "source": [
    "bat2_sr = (bat2['Runs'].sum()/bat2[\"BF\"].sum())*100\n",
    "print(bat2_sr)"
   ]
  },
  {
   "cell_type": "code",
   "execution_count": 119,
   "metadata": {},
   "outputs": [
    {
     "name": "stdout",
     "output_type": "stream",
     "text": [
      "60.93113482056256\n"
     ]
    }
   ],
   "source": [
    "bat3_sr = (bat3['Runs'].sum()/bat3[\"BF\"].sum())*100\n",
    "print(bat3_sr)"
   ]
  },
  {
   "cell_type": "code",
   "execution_count": 120,
   "metadata": {},
   "outputs": [
    {
     "name": "stdout",
     "output_type": "stream",
     "text": [
      "75.12886597938144\n"
     ]
    }
   ],
   "source": [
    "bat4_sr = (bat4['Runs'].sum()/bat4[\"BF\"].sum())*100\n",
    "print(bat4_sr)"
   ]
  },
  {
   "cell_type": "code",
   "execution_count": 121,
   "metadata": {},
   "outputs": [
    {
     "name": "stdout",
     "output_type": "stream",
     "text": [
      "60.747663551401864\n"
     ]
    }
   ],
   "source": [
    "bat5_sr = (bat5['Runs'].sum()/bat5[\"BF\"].sum())*100\n",
    "print(bat5_sr)"
   ]
  },
  {
   "cell_type": "code",
   "execution_count": 122,
   "metadata": {},
   "outputs": [
    {
     "name": "stdout",
     "output_type": "stream",
     "text": [
      "54.89964580873672\n"
     ]
    }
   ],
   "source": [
    "bat6_sr = (bat6['Runs'].sum()/bat6[\"BF\"].sum())*100\n",
    "print(bat6_sr)"
   ]
  },
  {
   "cell_type": "code",
   "execution_count": 123,
   "metadata": {},
   "outputs": [
    {
     "data": {
      "image/png": "[encoded data removed]",
      "text/plain": [
       "<matplotlib.figure.Figure at 0x1a145d83c8>"
      ]
     },
     "metadata": {},
     "output_type": "display_data"
    }
   ],
   "source": [
    "sns.set()\n",
    "batsman_sr = [bat1_sr, bat2_sr, bat3_sr, bat4_sr, bat5_sr, bat6_sr]\n",
    "x = ['Batsman1', 'Batsman2', 'Batsman3', 'Batsman4', 'Batsman5', 'Batsman6']\n",
    "\n",
    "plt.bar(x, batsman_sr)\n",
    "plt.xlabel(\"Batsman\")\n",
    "plt.ylabel(\"Strike-Rate\")\n",
    "\n",
    "plt.show()\n",
    "#we plot strike rates of the batsman"
   ]
  },
  {
   "cell_type": "code",
   "execution_count": 124,
   "metadata": {
    "collapsed": true
   },
   "outputs": [],
   "source": [
    "from scipy import stats as st\n",
    "import math"
   ]
  },
  {
   "cell_type": "code",
   "execution_count": 125,
   "metadata": {},
   "outputs": [
    {
     "name": "stdout",
     "output_type": "stream",
     "text": [
      "85.4759413719\n",
      "56.1567116893\n"
     ]
    }
   ],
   "source": [
    "#finding the 95% confidence interval for all the batsman using normal distribution\n",
    "bat1_upper_end_CI = bat1_avg +st.norm.ppf(1-(1-0.95)/2)*(std_bat1/math.sqrt(bat1.shape[0]))\n",
    "bat1_lower_end_CI = bat1_avg - st.norm.ppf(1-(1-0.95)/2)*(std_bat1/math.sqrt(bat1.shape[0]))\n",
    "print(bat1_upper_end_CI)\n",
    "print(bat1_lower_end_CI)"
   ]
  },
  {
   "cell_type": "code",
   "execution_count": 126,
   "metadata": {},
   "outputs": [
    {
     "name": "stdout",
     "output_type": "stream",
     "text": [
      "81.0630644252\n",
      "43.6452689082\n"
     ]
    }
   ],
   "source": [
    "bat2_upper_end_CI = bat2_avg +st.norm.ppf(1-(1-0.95)/2)*(std_bat2/math.sqrt(bat2.shape[0]))\n",
    "bat2_lower_end_CI = bat2_avg - st.norm.ppf(1-(1-0.95)/2)*(std_bat2/math.sqrt(bat2.shape[0]))\n",
    "print(bat2_upper_end_CI)\n",
    "print(bat2_lower_end_CI)"
   ]
  },
  {
   "cell_type": "code",
   "execution_count": 127,
   "metadata": {},
   "outputs": [
    {
     "name": "stdout",
     "output_type": "stream",
     "text": [
      "64.0510444192\n",
      "40.6489555808\n"
     ]
    }
   ],
   "source": [
    "bat3_upper_end_CI = bat3_avg +st.norm.ppf(1-(1-0.95)/2)*(std_bat3/math.sqrt(bat3.shape[0]))\n",
    "bat3_lower_end_CI = bat3_avg -st.norm.ppf(1-(1-0.95)/2)*(std_bat3/math.sqrt(bat3.shape[0]))\n",
    "print(bat3_upper_end_CI)\n",
    "print(bat3_lower_end_CI)"
   ]
  },
  {
   "cell_type": "code",
   "execution_count": 128,
   "metadata": {},
   "outputs": [
    {
     "name": "stdout",
     "output_type": "stream",
     "text": [
      "63.5011363296\n",
      "38.7795654248\n"
     ]
    }
   ],
   "source": [
    "bat4_upper_end_CI = bat4_avg +st.norm.ppf(1-(1-0.95)/2)*(std_bat4/math.sqrt(bat4.shape[0]))\n",
    "bat4_lower_end_CI = bat4_avg -st.norm.ppf(1-(1-0.95)/2)*(std_bat4/math.sqrt(bat4.shape[0]))\n",
    "print(bat4_upper_end_CI)\n",
    "print(bat4_lower_end_CI)"
   ]
  },
  {
   "cell_type": "code",
   "execution_count": 129,
   "metadata": {},
   "outputs": [
    {
     "name": "stdout",
     "output_type": "stream",
     "text": [
      "76.58952236\n",
      "45.5316897612\n"
     ]
    }
   ],
   "source": [
    "bat5_upper_end_CI = bat5_avg +st.norm.ppf(1-(1-0.95)/2)*(std_bat5/math.sqrt(bat5.shape[0]))\n",
    "bat5_lower_end_CI = bat5_avg -st.norm.ppf(1-(1-0.95)/2)*(std_bat5/math.sqrt(bat5.shape[0]))\n",
    "print(bat5_upper_end_CI)\n",
    "print(bat5_lower_end_CI)"
   ]
  },
  {
   "cell_type": "code",
   "execution_count": 130,
   "metadata": {},
   "outputs": [
    {
     "name": "stdout",
     "output_type": "stream",
     "text": [
      "47.2132431798\n",
      "24.3252183586\n"
     ]
    }
   ],
   "source": [
    "bat6_upper_end_CI = bat6_avg +st.norm.ppf(1-(1-0.95)/2)*(std_bat6/math.sqrt(bat6.shape[0]))\n",
    "bat6_lower_end_CI = bat6_avg -st.norm.ppf(1-(1-0.95)/2)*(std_bat6/math.sqrt(bat6.shape[0]))\n",
    "print(bat6_upper_end_CI)\n",
    "print(bat6_lower_end_CI)"
   ]
  },
  {
   "cell_type": "code",
   "execution_count": 131,
   "metadata": {
    "collapsed": true
   },
   "outputs": [],
   "source": [
    "import statistics"
   ]
  },
  {
   "cell_type": "code",
   "execution_count": 132,
   "metadata": {},
   "outputs": [
    {
     "name": "stdout",
     "output_type": "stream",
     "text": [
      "56.96490147450446\n"
     ]
    }
   ],
   "source": [
    "#to find t distribution we need sample standard deviation so we calculated the sample standard deviation for all batsman\n",
    "Sstd_bat1 = statistics.stdev(bat1['Runs'])\n",
    "print(Sstd_bat1)"
   ]
  },
  {
   "cell_type": "code",
   "execution_count": 133,
   "metadata": {},
   "outputs": [
    {
     "name": "stdout",
     "output_type": "stream",
     "text": [
      "69.49820141557622\n"
     ]
    }
   ],
   "source": [
    "Sstd_bat2 = statistics.stdev(bat2['Runs'])\n",
    "print(Sstd_bat2)"
   ]
  },
  {
   "cell_type": "code",
   "execution_count": 134,
   "metadata": {},
   "outputs": [
    {
     "name": "stdout",
     "output_type": "stream",
     "text": [
      "48.13522618623496\n"
     ]
    }
   ],
   "source": [
    "Sstd_bat3 = statistics.stdev(bat3['Runs'])\n",
    "print(Sstd_bat3)"
   ]
  },
  {
   "cell_type": "code",
   "execution_count": 135,
   "metadata": {},
   "outputs": [
    {
     "name": "stdout",
     "output_type": "stream",
     "text": [
      "48.85693400122443\n"
     ]
    }
   ],
   "source": [
    "Sstd_bat4 = statistics.stdev(bat4['Runs'])\n",
    "print(Sstd_bat4)"
   ]
  },
  {
   "cell_type": "code",
   "execution_count": 136,
   "metadata": {},
   "outputs": [
    {
     "name": "stdout",
     "output_type": "stream",
     "text": [
      "49.48737212663449\n"
     ]
    }
   ],
   "source": [
    "Sstd_bat5 = statistics.stdev(bat5['Runs'])\n",
    "print(Sstd_bat5)"
   ]
  },
  {
   "cell_type": "code",
   "execution_count": 137,
   "metadata": {},
   "outputs": [
    {
     "name": "stdout",
     "output_type": "stream",
     "text": [
      "30.347981810987037\n"
     ]
    }
   ],
   "source": [
    "Sstd_bat6 = statistics.stdev(bat6['Runs'])\n",
    "print(Sstd_bat6)"
   ]
  },
  {
   "cell_type": "code",
   "execution_count": 138,
   "metadata": {},
   "outputs": [
    {
     "name": "stdout",
     "output_type": "stream",
     "text": [
      "85.9311493893\n",
      "55.7015036719\n"
     ]
    }
   ],
   "source": [
    "#finding 95% confidence interval using t distribution\n",
    "bat1_t_upper_CI = bat1_avg +st.t.ppf(1-(1-0.95)/2,bat1.shape[0]-1)*(Sstd_bat1/math.sqrt(bat1.shape[0]))\n",
    "bat1_t_lower_CI = bat1_avg -st.t.ppf(1-(1-0.95)/2,bat1.shape[0]-1)*(Sstd_bat1/math.sqrt(bat1.shape[0]))\n",
    "print(bat1_t_upper_CI)\n",
    "print(bat1_t_lower_CI)"
   ]
  },
  {
   "cell_type": "code",
   "execution_count": 139,
   "metadata": {},
   "outputs": [
    {
     "name": "stdout",
     "output_type": "stream",
     "text": [
      "81.7025894762\n",
      "43.0057438572\n"
     ]
    }
   ],
   "source": [
    "bat2_t_upper_CI = bat2_avg +st.t.ppf(1-(1-0.95)/2,bat2.shape[0]-1)*(Sstd_bat2/math.sqrt(bat2.shape[0]))\n",
    "bat2_t_lower_CI = bat2_avg -st.t.ppf(1-(1-0.95)/2,bat2.shape[0]-1)*(Sstd_bat2/math.sqrt(bat2.shape[0]))\n",
    "print(bat2_t_upper_CI)\n",
    "print(bat2_t_lower_CI)"
   ]
  },
  {
   "cell_type": "code",
   "execution_count": 140,
   "metadata": {},
   "outputs": [
    {
     "name": "stdout",
     "output_type": "stream",
     "text": [
      "64.3738217469\n",
      "40.3261782531\n"
     ]
    }
   ],
   "source": [
    "bat3_t_upper_CI = bat3_avg +st.t.ppf(1-(1-0.95)/2,bat3.shape[0]-1)*(Sstd_bat3/math.sqrt(bat3.shape[0]))\n",
    "bat3_t_lower_CI = bat3_avg -st.t.ppf(1-(1-0.95)/2,bat3.shape[0]-1)*(Sstd_bat3/math.sqrt(bat3.shape[0]))\n",
    "print(bat3_t_upper_CI)\n",
    "print(bat3_t_lower_CI)"
   ]
  },
  {
   "cell_type": "code",
   "execution_count": 141,
   "metadata": {},
   "outputs": [
    {
     "name": "stdout",
     "output_type": "stream",
     "text": [
      "63.8725372159\n",
      "38.4081645385\n"
     ]
    }
   ],
   "source": [
    "bat4_t_upper_CI = bat4_avg + st.t.ppf(1-(1-0.95)/2,bat4.shape[0]-1)*(Sstd_bat4/math.sqrt(bat4.shape[0]))\n",
    "bat4_t_lower_CI = bat4_avg - st.t.ppf(1-(1-0.95)/2,bat4.shape[0]-1)*(Sstd_bat4/math.sqrt(bat4.shape[0]))\n",
    "print(bat4_t_upper_CI)\n",
    "print(bat4_t_lower_CI)"
   ]
  },
  {
   "cell_type": "code",
   "execution_count": 142,
   "metadata": {},
   "outputs": [
    {
     "name": "stdout",
     "output_type": "stream",
     "text": [
      "77.3267005133\n",
      "44.7945116079\n"
     ]
    }
   ],
   "source": [
    "bat5_t_upper_CI = bat5_avg + st.t.ppf(1-(1-0.95)/2,bat5.shape[0]-1)*(Sstd_bat5/math.sqrt(bat5.shape[0]))\n",
    "bat5_t_lower_CI = bat5_avg - st.t.ppf(1-(1-0.95)/2,bat5.shape[0]-1)*(Sstd_bat5/math.sqrt(bat5.shape[0]))\n",
    "print(bat5_t_upper_CI)\n",
    "print(bat5_t_lower_CI)"
   ]
  },
  {
   "cell_type": "code",
   "execution_count": 143,
   "metadata": {},
   "outputs": [
    {
     "name": "stdout",
     "output_type": "stream",
     "text": [
      "48.0270458985\n",
      "23.51141564\n"
     ]
    }
   ],
   "source": [
    "bat6_t_upper_CI = bat6_avg + st.t.ppf(1-(1-0.95)/2,bat6.shape[0]-1)*(Sstd_bat6/math.sqrt(bat6.shape[0]))\n",
    "bat6_t_lower_CI = bat6_avg - st.t.ppf(1-(1-0.95)/2,bat6.shape[0]-1)*(Sstd_bat6/math.sqrt(bat6.shape[0]))\n",
    "print(bat6_t_upper_CI)\n",
    "print(bat6_t_lower_CI)"
   ]
  },
  {
   "cell_type": "code",
   "execution_count": null,
   "metadata": {
    "collapsed": true
   },
   "outputs": [],
   "source": []
  }
 ],
 "metadata": {
  "kernelspec": {
   "display_name": "Python 3",
   "language": "python",
   "name": "python3"
  },
  "language_info": {
   "codemirror_mode": {
    "name": "ipython",
    "version": 3
   },
   "file_extension": ".py",
   "mimetype": "text/x-python",
   "name": "python",
   "nbconvert_exporter": "python",
   "pygments_lexer": "ipython3",
   "version": "3.6.3"
  }
 },
 "nbformat": 4,
 "nbformat_minor": 2
}
